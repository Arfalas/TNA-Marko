{
 "cells": [
  {
   "cell_type": "code",
   "execution_count": 1,
   "id": "abe64e31-1222-4eeb-9c10-983977d38c2d",
   "metadata": {},
   "outputs": [],
   "source": [
    "import pandas as pd\n",
    "from transformers import AutoTokenizer, AutoModelForCausalLM, BitsAndBytesConfig, GenerationConfig, Conversation, pipeline\n",
    "import torch"
   ]
  },
  {
   "cell_type": "code",
   "execution_count": 2,
   "id": "f62f51e0-9273-4069-98cb-cc82103455e7",
   "metadata": {},
   "outputs": [],
   "source": [
    "model_name = \"meta-llama/Llama-2-7b-chat-hf\"\n",
    "#name = \"RomanOrac/llama-2-7b-slovenian\"\n",
    "model_name = \"mistralai/Mixtral-8x7B-Instruct-v0.1\"\n",
    "model_name = \"mistralai/Mistral-7B-Instruct-v0.2\""
   ]
  },
  {
   "cell_type": "code",
   "execution_count": 3,
   "id": "b1bb70c9-f131-4e17-bb17-2818e523a378",
   "metadata": {},
   "outputs": [
    {
     "data": {
      "text/plain": [
       "device(type='cuda')"
      ]
     },
     "execution_count": 3,
     "metadata": {},
     "output_type": "execute_result"
    }
   ],
   "source": [
    "device = torch.device('cuda' if torch.cuda.is_available() else 'cpu')\n",
    "device"
   ]
  },
  {
   "cell_type": "code",
   "execution_count": 4,
   "id": "5759feb1-a870-4c1d-b47e-6b69ec5cf5fe",
   "metadata": {},
   "outputs": [
    {
     "data": {
      "application/vnd.jupyter.widget-view+json": {
       "model_id": "dde854ae2c2549c2aebbeda11e952886",
       "version_major": 2,
       "version_minor": 0
      },
      "text/plain": [
       "tokenizer_config.json:   0%|          | 0.00/1.46k [00:00<?, ?B/s]"
      ]
     },
     "metadata": {},
     "output_type": "display_data"
    },
    {
     "data": {
      "application/vnd.jupyter.widget-view+json": {
       "model_id": "f19cac6b0e914652b29bac8439074aad",
       "version_major": 2,
       "version_minor": 0
      },
      "text/plain": [
       "tokenizer.model:   0%|          | 0.00/493k [00:00<?, ?B/s]"
      ]
     },
     "metadata": {},
     "output_type": "display_data"
    },
    {
     "data": {
      "application/vnd.jupyter.widget-view+json": {
       "model_id": "186bd2ea7bd042f0a952156c6a79390a",
       "version_major": 2,
       "version_minor": 0
      },
      "text/plain": [
       "tokenizer.json:   0%|          | 0.00/1.80M [00:00<?, ?B/s]"
      ]
     },
     "metadata": {},
     "output_type": "display_data"
    },
    {
     "data": {
      "application/vnd.jupyter.widget-view+json": {
       "model_id": "93bb18233a1740efa58a0c5fd5af8ea1",
       "version_major": 2,
       "version_minor": 0
      },
      "text/plain": [
       "special_tokens_map.json:   0%|          | 0.00/72.0 [00:00<?, ?B/s]"
      ]
     },
     "metadata": {},
     "output_type": "display_data"
    }
   ],
   "source": [
    "tokenizer = AutoTokenizer.from_pretrained(model_name)\n",
    "#tokenizer.pad_token_id = tokenizer.eos_token_id    # for open-ended generation"
   ]
  },
  {
   "cell_type": "code",
   "execution_count": 5,
   "id": "3e11852c-4e6b-4e92-a385-f33e9052a301",
   "metadata": {},
   "outputs": [],
   "source": [
    "tokenizer.chat_template = (\n",
    "            \"{% if messages[0]['role'] == 'system' %}\"\n",
    "            \"{% set loop_messages = messages[1:] %}\"\n",
    "            \"{% set system_message = messages[0]['content'] %}\"\n",
    "            \"{% else %}\"\n",
    "            \"{% set loop_messages = messages %}\"\n",
    "            \"{% set system_message = false %}\"\n",
    "            \"{% endif %}\"\n",
    "            \"{% for message in loop_messages %}\"\n",
    "            \"{% if (message['role'] == 'user') != (loop.index0 % 2 == 0) %}\"\n",
    "            \"{{ raise_exception('Conversation roles must alternate \"\n",
    "            \"user/assistant/user/assistant/...') }}\"\n",
    "            \"{% endif %}\"\n",
    "            \"{% if loop.index0 == 0 and system_message != false %}\"\n",
    "            \"{% set content = '<<SYS>>\\n' + system_message + '\\n<</SYS>>\\n\\n' + \"\n",
    "            \"message['content'] %}\"\n",
    "            \"{% else %}\"\n",
    "            \"{% set content = message['content'] %}\"\n",
    "            \"{% endif %}\"\n",
    "            \"{% if message['role'] == 'user' %}\"\n",
    "            \"{{ bos_token + '[INST] ' + content.strip() + ' [/INST]' }}\"\n",
    "            \"{% elif message['role'] == 'assistant' %}\"\n",
    "            \"{{ ' '  + content.strip() + ' ' + eos_token }}\"\n",
    "            \"{% endif %}\"\n",
    "            \"{% endfor %}\"\n",
    "            )"
   ]
  },
  {
   "cell_type": "code",
   "execution_count": 6,
   "id": "ac166a88-83f8-4668-864c-2915e5e610f0",
   "metadata": {},
   "outputs": [],
   "source": [
    "bnb_config = BitsAndBytesConfig(\n",
    "    load_in_4bit=True,\n",
    "    bnb_4bit_quant_type=\"nf4\",\n",
    "    bnb_4bit_compute_dtype=torch.float16,\n",
    "    bnb_4bit_use_double_quant=True,\n",
    ")"
   ]
  },
  {
   "cell_type": "code",
   "execution_count": null,
   "id": "b417a6b7-cd7b-4cf7-9b71-e3026a972d56",
   "metadata": {},
   "outputs": [
    {
     "data": {
      "application/vnd.jupyter.widget-view+json": {
       "model_id": "e9617eb447814c05ba26a9bfc532847e",
       "version_major": 2,
       "version_minor": 0
      },
      "text/plain": [
       "config.json:   0%|          | 0.00/596 [00:00<?, ?B/s]"
      ]
     },
     "metadata": {},
     "output_type": "display_data"
    },
    {
     "data": {
      "application/vnd.jupyter.widget-view+json": {
       "model_id": "4abf23889114487b93442181647cefc4",
       "version_major": 2,
       "version_minor": 0
      },
      "text/plain": [
       "model.safetensors.index.json:   0%|          | 0.00/25.1k [00:00<?, ?B/s]"
      ]
     },
     "metadata": {},
     "output_type": "display_data"
    },
    {
     "data": {
      "application/vnd.jupyter.widget-view+json": {
       "model_id": "33b3e826bd9f4311a9e8000eb1263568",
       "version_major": 2,
       "version_minor": 0
      },
      "text/plain": [
       "Downloading shards:   0%|          | 0/3 [00:00<?, ?it/s]"
      ]
     },
     "metadata": {},
     "output_type": "display_data"
    },
    {
     "data": {
      "application/vnd.jupyter.widget-view+json": {
       "model_id": "81f39ac026d8481fa79e578ea4522e8f",
       "version_major": 2,
       "version_minor": 0
      },
      "text/plain": [
       "model-00001-of-00003.safetensors:   0%|          | 0.00/4.94G [00:00<?, ?B/s]"
      ]
     },
     "metadata": {},
     "output_type": "display_data"
    },
    {
     "data": {
      "application/vnd.jupyter.widget-view+json": {
       "model_id": "5441b290787f469a8d517afaa6afd5d4",
       "version_major": 2,
       "version_minor": 0
      },
      "text/plain": [
       "model-00002-of-00003.safetensors:   0%|          | 0.00/5.00G [00:00<?, ?B/s]"
      ]
     },
     "metadata": {},
     "output_type": "display_data"
    },
    {
     "data": {
      "application/vnd.jupyter.widget-view+json": {
       "model_id": "9a22a98153154cf0a67ad74cd710f291",
       "version_major": 2,
       "version_minor": 0
      },
      "text/plain": [
       "model-00003-of-00003.safetensors:   0%|          | 0.00/4.54G [00:00<?, ?B/s]"
      ]
     },
     "metadata": {},
     "output_type": "display_data"
    }
   ],
   "source": [
    "model = AutoModelForCausalLM.from_pretrained(\n",
    "    model_name,\n",
    "    quantization_config=bnb_config,\n",
    "    device_map=\"auto\",\n",
    "    trust_remote_code=True,\n",
    ")"
   ]
  },
  {
   "cell_type": "code",
   "execution_count": 8,
   "id": "cccd96d2-40be-441c-9b49-35c1d64b4368",
   "metadata": {},
   "outputs": [],
   "source": [
    "model.generation_config = GenerationConfig(\n",
    "    do_sample=True,\n",
    "    temperature=0.7,\n",
    "    #top_k=\n",
    ")"
   ]
  },
  {
   "cell_type": "code",
   "execution_count": 9,
   "id": "e3b164d8-104f-4bbc-84c9-723ad63341f4",
   "metadata": {},
   "outputs": [],
   "source": [
    "generation_pipe = pipeline(\n",
    "    \"conversational\",\n",
    "    model=model,\n",
    "    tokenizer=tokenizer,\n",
    "    trust_remote_code=True,\n",
    "    device_map=\"auto\",    # finds GPU\n",
    ")"
   ]
  },
  {
   "cell_type": "code",
   "execution_count": 10,
   "id": "71366a27-b308-4e00-8dcf-daf8d5155d98",
   "metadata": {},
   "outputs": [],
   "source": [
    "violence_df = pd.read_csv(\"violence.csv\")"
   ]
  },
  {
   "cell_type": "code",
   "execution_count": 11,
   "id": "261f5ab3-ffc0-402e-9ea6-9e8941662252",
   "metadata": {},
   "outputs": [
    {
     "data": {
      "text/plain": [
       "'Ker sicer nas boste prisilili, da bomo posegli s svoje rezervne višine, toda ne v volilni boj. ampak v vaša ušesa ter vam jih navili.'"
      ]
     },
     "execution_count": 11,
     "metadata": {},
     "output_type": "execute_result"
    }
   ],
   "source": [
    "violence_df.Sentence.loc[0]"
   ]
  },
  {
   "cell_type": "code",
   "execution_count": 12,
   "id": "db2d4645-da58-4d53-bc0f-039ba390056a",
   "metadata": {},
   "outputs": [],
   "source": [
    "examples_df = violence_df[violence_df[\"Example\"] == True]"
   ]
  },
  {
   "cell_type": "code",
   "execution_count": 13,
   "id": "2c999a43-bd76-4925-927a-d2911959d697",
   "metadata": {},
   "outputs": [
    {
     "data": {
      "text/html": [
       "<div>\n",
       "<style scoped>\n",
       "    .dataframe tbody tr th:only-of-type {\n",
       "        vertical-align: middle;\n",
       "    }\n",
       "\n",
       "    .dataframe tbody tr th {\n",
       "        vertical-align: top;\n",
       "    }\n",
       "\n",
       "    .dataframe thead th {\n",
       "        text-align: right;\n",
       "    }\n",
       "</style>\n",
       "<table border=\"1\" class=\"dataframe\">\n",
       "  <thead>\n",
       "    <tr style=\"text-align: right;\">\n",
       "      <th></th>\n",
       "      <th>Date</th>\n",
       "      <th>Sentence</th>\n",
       "      <th>Violent</th>\n",
       "      <th>Description</th>\n",
       "      <th>Example</th>\n",
       "    </tr>\n",
       "  </thead>\n",
       "  <tbody>\n",
       "    <tr>\n",
       "      <th>9</th>\n",
       "      <td>21. 11. 1925.</td>\n",
       "      <td>Princip naš bodi: odkrit in viteški boj s pošt...</td>\n",
       "      <td>True</td>\n",
       "      <td>Implied violence or violent methods</td>\n",
       "      <td>True</td>\n",
       "    </tr>\n",
       "    <tr>\n",
       "      <th>15</th>\n",
       "      <td>07. 02. 1925.</td>\n",
       "      <td>Boj, ki smo ga začeli, pa bomo vodili dalje: Z...</td>\n",
       "      <td>True</td>\n",
       "      <td>Implied violence or violent methods</td>\n",
       "      <td>True</td>\n",
       "    </tr>\n",
       "    <tr>\n",
       "      <th>23</th>\n",
       "      <td>03. 09. 1925.</td>\n",
       "      <td>Pripraviti vse, da bo to jutro čimpreje napoči...</td>\n",
       "      <td>True</td>\n",
       "      <td>Implied violence or violent methods</td>\n",
       "      <td>True</td>\n",
       "    </tr>\n",
       "    <tr>\n",
       "      <th>28</th>\n",
       "      <td>14. 02. 1925.</td>\n",
       "      <td>O tem si moramo biti vsi Orjunaši na jasnem da...</td>\n",
       "      <td>True</td>\n",
       "      <td>Implied violence or violent methods</td>\n",
       "      <td>True</td>\n",
       "    </tr>\n",
       "    <tr>\n",
       "      <th>33</th>\n",
       "      <td>24. 12. 1925.</td>\n",
       "      <td>Zbrisal ga bo, kakor besen orkan z zemlje, tak...</td>\n",
       "      <td>True</td>\n",
       "      <td>Implied violence or violent methods</td>\n",
       "      <td>True</td>\n",
       "    </tr>\n",
       "    <tr>\n",
       "      <th>60</th>\n",
       "      <td>05. 01. 1926.</td>\n",
       "      <td>Borba je pred nami in kri za nami, kri ki nas ...</td>\n",
       "      <td>True</td>\n",
       "      <td>Threat against other political parties</td>\n",
       "      <td>True</td>\n",
       "    </tr>\n",
       "  </tbody>\n",
       "</table>\n",
       "</div>"
      ],
      "text/plain": [
       "            Date                                            Sentence  Violent  \\\n",
       "9   21. 11. 1925.  Princip naš bodi: odkrit in viteški boj s pošt...     True   \n",
       "15  07. 02. 1925.  Boj, ki smo ga začeli, pa bomo vodili dalje: Z...     True   \n",
       "23  03. 09. 1925.  Pripraviti vse, da bo to jutro čimpreje napoči...     True   \n",
       "28  14. 02. 1925.  O tem si moramo biti vsi Orjunaši na jasnem da...     True   \n",
       "33  24. 12. 1925.  Zbrisal ga bo, kakor besen orkan z zemlje, tak...     True   \n",
       "60  05. 01. 1926.  Borba je pred nami in kri za nami, kri ki nas ...     True   \n",
       "\n",
       "                               Description  Example  \n",
       "9      Implied violence or violent methods     True  \n",
       "15     Implied violence or violent methods     True  \n",
       "23     Implied violence or violent methods     True  \n",
       "28     Implied violence or violent methods     True  \n",
       "33     Implied violence or violent methods     True  \n",
       "60  Threat against other political parties     True  "
      ]
     },
     "execution_count": 13,
     "metadata": {},
     "output_type": "execute_result"
    }
   ],
   "source": [
    "examples_df"
   ]
  },
  {
   "cell_type": "code",
   "execution_count": 14,
   "id": "9974c310-b85e-4764-ab11-5df878929e69",
   "metadata": {},
   "outputs": [],
   "source": [
    "text_df = pd.DataFrame()"
   ]
  },
  {
   "cell_type": "code",
   "execution_count": 15,
   "id": "09ea3fea-b523-4386-ba8f-d981029cb712",
   "metadata": {},
   "outputs": [],
   "source": [
    "ex_violence = violence_df[violence_df[\"Example\"] == False]\n",
    "sample_val = ex_violence.sample(5)"
   ]
  },
  {
   "cell_type": "code",
   "execution_count": 16,
   "id": "d496cb55-5892-4539-87dc-64dd508969f4",
   "metadata": {},
   "outputs": [],
   "source": [
    "system_prompt = \"You are an expert classifier in Slovenian sociology. You always answer in English.\""
   ]
  },
  {
   "cell_type": "code",
   "execution_count": 17,
   "id": "f43f1966-2554-4491-ac93-abcbd1b4812e",
   "metadata": {},
   "outputs": [],
   "source": [
    "prompt_base_few_shot = \"## Label this Slovenian text, according to wether the whole text is violent, includes hatespeech, calls to violent or subversive actions or sublevation (both explictly or figuratively), or not, indicating 'True' if it does and 'False' if it doesn't:\\n\""
   ]
  },
  {
   "cell_type": "code",
   "execution_count": 18,
   "id": "d7a1b8c0-8aef-4d2e-be36-433da70b5e87",
   "metadata": {},
   "outputs": [],
   "source": [
    "FEW_SHOT = prompt_base_few_shot+\"# Text: {text}\\n# Violent: {label}\\n# Description: {description}\\n\\n\""
   ]
  },
  {
   "cell_type": "code",
   "execution_count": 20,
   "id": "10389696-1256-4a6d-b7fa-2602fd9df706",
   "metadata": {},
   "outputs": [],
   "source": [
    "prompt_base = \"## Label ONLY THE LAST Slovenian text, according to wether the whole text is violent, includes hatespeech, calls to violent or subversive actions or sublevation (both explictly or figuratively), or not, indicating 'True' if it does and 'False' if it doesn't:\\n\""
   ]
  },
  {
   "cell_type": "code",
   "execution_count": 21,
   "id": "54c219f5-5cb1-4526-a0ff-073aa9452405",
   "metadata": {},
   "outputs": [],
   "source": [
    "COT = f\"\"\"{prompt_base}\n",
    "## Answer:\n",
    "Let's think step by step to label this text according to wether the whole text is violent, includes hatespeech, calls to violent or subversive actions or sublevation (both explictly or figuratively), or not.\n",
    "\n",
    "Step 1: Recognize words or locutions related to violence or calls to violent actions\n",
    "- Identify key words or locutions related to violence or calls to violent action such as 'bitka', 'upor', 'strmoglavljenje vlade', or 'boj'.\n",
    "\n",
    "Step 2: Recognize words or locutions related to hatespeech\n",
    "- Identify key words or locutions related to hatespeech such as 'strupeni Žid', 'tujci ven', 'Čefur', or 'kurbe'.\n",
    "\n",
    "Step 3: Label the text based on the previous steps\n",
    "- If you do find instances of violence, calls to violent actions, or hatespeech, label the text as 'Violent: True'\n",
    "- If you do not find any instances of violence, calls to violent actions, or hatespeech, label the text as 'Violent: False'\n",
    "- Include a description of why the text has been labeled as such\n",
    "\"\"\""
   ]
  },
  {
   "cell_type": "code",
   "execution_count": 22,
   "id": "01671c85-be6a-47e9-afd4-8360641f27e9",
   "metadata": {},
   "outputs": [],
   "source": [
    "text_df[\"prompts\"] = examples_df[[\"Sentence\", \"Violent\", \"Description\"]].astype(str).apply(lambda x: FEW_SHOT.format(text=x['Sentence'],label=x['Violent'],description=x['Description']), axis=1)"
   ]
  },
  {
   "cell_type": "code",
   "execution_count": 23,
   "id": "b568af17-a776-4b60-8dfe-43a0e1e43e6e",
   "metadata": {},
   "outputs": [],
   "source": [
    "few_shots = '## I present you here six (6) examples of correctly labeled texts based on similar problems:\\n' + \"\\n\".join(text_df[\"prompts\"].to_list()) + \"\\n\\nUse the previous examples as guidelines without labelling them.\\n\\n\""
   ]
  },
  {
   "cell_type": "code",
   "execution_count": 24,
   "id": "01b18df0-599e-427a-911c-3d709f966889",
   "metadata": {},
   "outputs": [],
   "source": [
    "def label(texts):\n",
    "    conversation = Conversation()\n",
    "    conversation.add_message({'role':'system', 'content': system_prompt})\n",
    "    conversation.add_message({'role':'user', 'content': few_shots+COT+prompt_base+\"# Text: \" + texts + \"\\n# Let's think step by step: \"})\n",
    "    response = generation_pipe(\n",
    "        conversation,\n",
    "        max_new_tokens=1024,\n",
    "        eos_token_id=tokenizer.eos_token_id,\n",
    "    )\n",
    "    return response"
   ]
  },
  {
   "cell_type": "code",
   "execution_count": 25,
   "id": "c37a20a3-85fc-417c-b807-d570fa4efac0",
   "metadata": {},
   "outputs": [
    {
     "data": {
      "text/html": [
       "<div>\n",
       "<style scoped>\n",
       "    .dataframe tbody tr th:only-of-type {\n",
       "        vertical-align: middle;\n",
       "    }\n",
       "\n",
       "    .dataframe tbody tr th {\n",
       "        vertical-align: top;\n",
       "    }\n",
       "\n",
       "    .dataframe thead th {\n",
       "        text-align: right;\n",
       "    }\n",
       "</style>\n",
       "<table border=\"1\" class=\"dataframe\">\n",
       "  <thead>\n",
       "    <tr style=\"text-align: right;\">\n",
       "      <th></th>\n",
       "      <th>Date</th>\n",
       "      <th>Sentence</th>\n",
       "      <th>Violent</th>\n",
       "      <th>Description</th>\n",
       "      <th>Example</th>\n",
       "    </tr>\n",
       "  </thead>\n",
       "  <tbody>\n",
       "    <tr>\n",
       "      <th>47</th>\n",
       "      <td>13. 11. 1926.</td>\n",
       "      <td>Orjuna je razpuščena ali ostali so še vedno Or...</td>\n",
       "      <td>True</td>\n",
       "      <td>Implied violence or violent methods</td>\n",
       "      <td>False</td>\n",
       "    </tr>\n",
       "    <tr>\n",
       "      <th>43</th>\n",
       "      <td>13. 02. 1926.</td>\n",
       "      <td>Nadaljevali bomo našo redukcijo dobrih iin poš...</td>\n",
       "      <td>True</td>\n",
       "      <td>Implied violence or violent methods</td>\n",
       "      <td>False</td>\n",
       "    </tr>\n",
       "    <tr>\n",
       "      <th>96</th>\n",
       "      <td>17. 04. 1926.</td>\n",
       "      <td>Ostali smo, kot večen memento bližnjega obraču...</td>\n",
       "      <td>True</td>\n",
       "      <td>Implied violence or violent methods</td>\n",
       "      <td>False</td>\n",
       "    </tr>\n",
       "    <tr>\n",
       "      <th>53</th>\n",
       "      <td>08. 05. 1926.</td>\n",
       "      <td>Orjuna vas svari pred nadaljevanjem teh eksper...</td>\n",
       "      <td>True</td>\n",
       "      <td>Implied violence or violent methods</td>\n",
       "      <td>False</td>\n",
       "    </tr>\n",
       "    <tr>\n",
       "      <th>82</th>\n",
       "      <td>07. 08. 1926.</td>\n",
       "      <td>Bil pa ie tudi znam enje popolne zm age Orjune...</td>\n",
       "      <td>True</td>\n",
       "      <td>Implied violence or violent methods</td>\n",
       "      <td>False</td>\n",
       "    </tr>\n",
       "  </tbody>\n",
       "</table>\n",
       "</div>"
      ],
      "text/plain": [
       "             Date                                            Sentence  \\\n",
       "47   13. 11. 1926.  Orjuna je razpuščena ali ostali so še vedno Or...   \n",
       "43   13. 02. 1926.  Nadaljevali bomo našo redukcijo dobrih iin poš...   \n",
       "96   17. 04. 1926.  Ostali smo, kot večen memento bližnjega obraču...   \n",
       "53   08. 05. 1926.  Orjuna vas svari pred nadaljevanjem teh eksper...   \n",
       "82  07. 08. 1926.   Bil pa ie tudi znam enje popolne zm age Orjune...   \n",
       "\n",
       "    Violent                          Description  Example  \n",
       "47     True  Implied violence or violent methods    False  \n",
       "43     True  Implied violence or violent methods    False  \n",
       "96     True  Implied violence or violent methods    False  \n",
       "53     True  Implied violence or violent methods    False  \n",
       "82     True  Implied violence or violent methods    False  "
      ]
     },
     "execution_count": 25,
     "metadata": {},
     "output_type": "execute_result"
    }
   ],
   "source": [
    "sample_val"
   ]
  },
  {
   "cell_type": "code",
   "execution_count": 26,
   "id": "093f0904-7eeb-4908-a606-2f43524d3a50",
   "metadata": {},
   "outputs": [
    {
     "data": {
      "text/plain": [
       "Conversation id: 8a431884-8225-4964-9cb1-20a46f45e2a0\n",
       "system: You are an expert classifier in Slovenian sociology. You always answer in English.\n",
       "user: ## I present you here six (6) examples of correctly labeled texts based on similar problems:\n",
       "## Label this Slovenian text, according to wether the whole text is violent, includes hatespeech, calls to violent or subversive actions or sublevation (both explictly or figuratively), or not, indicating 'True' if it does and 'False' if it doesn't:\n",
       "# Text: Princip naš bodi: odkrit in viteški boj s poštenimi sredstvi, ki morajo služiti vedno samo naciji i ideji!\n",
       "# Violent: True\n",
       "# Description: Implied violence or violent methods\n",
       "\n",
       "\n",
       "## Label this Slovenian text, according to wether the whole text is violent, includes hatespeech, calls to violent or subversive actions or sublevation (both explictly or figuratively), or not, indicating 'True' if it does and 'False' if it doesn't:\n",
       "# Text: Boj, ki smo ga začeli, pa bomo vodili dalje: Za Nacijo — do Pobede!\n",
       "# Violent: True\n",
       "# Description: Implied violence or violent methods\n",
       "\n",
       "\n",
       "## Label this Slovenian text, according to wether the whole text is violent, includes hatespeech, calls to violent or subversive actions or sublevation (both explictly or figuratively), or not, indicating 'True' if it does and 'False' if it doesn't:\n",
       "# Text: Pripraviti vse, da bo to jutro čimpreje napočilo, je naloga nas vseh, ki čuvamo na jugoslovenski mrtvi straži; posebno pa še nas Orjunašev. \n",
       "# Violent: True\n",
       "# Description: Implied violence or violent methods\n",
       "\n",
       "\n",
       "## Label this Slovenian text, according to wether the whole text is violent, includes hatespeech, calls to violent or subversive actions or sublevation (both explictly or figuratively), or not, indicating 'True' if it does and 'False' if it doesn't:\n",
       "# Text: O tem si moramo biti vsi Orjunaši na jasnem danes boli kakor kdaj prej in moramo ravno radi tega s še večjo vztrajnostjo graditi dalje svoje barikade, s katerih bomo nekoč, ko pride čas razvili svoje zmagovite prapore.\n",
       "# Violent: True\n",
       "# Description: Implied violence or violent methods\n",
       "\n",
       "\n",
       "## Label this Slovenian text, according to wether the whole text is violent, includes hatespeech, calls to violent or subversive actions or sublevation (both explictly or figuratively), or not, indicating 'True' if it does and 'False' if it doesn't:\n",
       "# Text: Zbrisal ga bo, kakor besen orkan z zemlje, takoi v prvih borbah!\n",
       "# Violent: True\n",
       "# Description: Implied violence or violent methods\n",
       "\n",
       "\n",
       "## Label this Slovenian text, according to wether the whole text is violent, includes hatespeech, calls to violent or subversive actions or sublevation (both explictly or figuratively), or not, indicating 'True' if it does and 'False' if it doesn't:\n",
       "# Text: Borba je pred nami in kri za nami, kri ki nas le zvezala na življenje i smrt.\n",
       "# Violent: True\n",
       "# Description: Threat against other political parties\n",
       "\n",
       "\n",
       "\n",
       "Use the previous examples as guidelines without labelling them.\n",
       "\n",
       "## Label ONLY THE LAST Slovenian text, according to wether the whole text is violent, includes hatespeech, calls to violent or subversive actions or sublevation (both explictly or figuratively), or not, indicating 'True' if it does and 'False' if it doesn't:\n",
       "\n",
       "## Answer:\n",
       "Let's think step by step to label this text according to wether the whole text is violent, includes hatespeech, calls to violent or subversive actions or sublevation (both explictly or figuratively), or not.\n",
       "\n",
       "Step 1: Recognize words or locutions related to violence or calls to violent actions\n",
       "- Identify key words or locutions related to violence or calls to violent action such as 'bitka', 'upor', 'strmoglavljenje vlade', or 'boj'.\n",
       "\n",
       "Step 2: Recognize words or locutions related to hatespeech\n",
       "- Identify key words or locutions related to hatespeech such as 'strupeni Žid', 'tujci ven', 'Čefur', or 'kurbe'.\n",
       "\n",
       "Step 3: Label the text based on the previous steps\n",
       "- If you do find instances of violence, calls to violent actions, or hatespeech, label the text as 'Violent: True'\n",
       "- If you do not find any instances of violence, calls to violent actions, or hatespeech, label the text as 'Violent: False'\n",
       "- Include a description of why the text has been labeled as such\n",
       "## Label ONLY THE LAST Slovenian text, according to wether the whole text is violent, includes hatespeech, calls to violent or subversive actions or sublevation (both explictly or figuratively), or not, indicating 'True' if it does and 'False' if it doesn't:\n",
       "# Text: Orjuna v tem trenutku prva dviga svoje barke v poziv za v boi proti tei lažnjivi demokraciji z njenim sifilističnim neboglencem točasnega pokvarjenega parlamentarizma.\n",
       "# Let's think step by step: \n",
       "assistant: Vsi Slovenčini so razumeti, da je treba opaziti, ali je v besedilih omenjeno nasilje, govor o nasilju, pohlebni govor ali še posebno govor o nasilju proti drugi politični stranki. V primeru, da je v besedilih omenjeno nasilje, je besedilo treba razločiti kot 'Violent: True'. V primeru, da ni v besedilih nobene nasilne besede, je besedilo treba razločiti kot 'Violent: False'. Vključite opis, zakaj je besedilo razločili tako.\n",
       "\n",
       "Besedilo je treba razločiti na ustrezno kategorijo, glede na vse, kar je v besedilih omenjeno. V primeru, da je v besedilih omenjeno nasilje, je treba besedilo razločiti kot 'Violent: True'. V primeru, da ni v besedili"
      ]
     },
     "execution_count": 26,
     "metadata": {},
     "output_type": "execute_result"
    }
   ],
   "source": [
    "label(ex_violence.Sentence[65])"
   ]
  },
  {
   "cell_type": "code",
   "execution_count": null,
   "id": "67a7294f-5329-4c37-adeb-bf5d30015c0a",
   "metadata": {},
   "outputs": [],
   "source": []
  }
 ],
 "metadata": {
  "kernelspec": {
   "display_name": "Python 3 (ipykernel)",
   "language": "python",
   "name": "python3"
  },
  "language_info": {
   "codemirror_mode": {
    "name": "ipython",
    "version": 3
   },
   "file_extension": ".py",
   "mimetype": "text/x-python",
   "name": "python",
   "nbconvert_exporter": "python",
   "pygments_lexer": "ipython3",
   "version": "3.11.6"
  }
 },
 "nbformat": 4,
 "nbformat_minor": 5
}
